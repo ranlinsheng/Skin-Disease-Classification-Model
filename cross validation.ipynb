{
 "cells": [
  {
   "cell_type": "code",
   "execution_count": 1,
   "id": "19c15fe5",
   "metadata": {},
   "outputs": [],
   "source": [
    "import cv2  \n",
    "import os  \n",
    "import sys  \n",
    "import numpy as np\n",
    "import random  \n",
    "import matplotlib.pyplot as plt\n",
    "from PIL import Image, ImageStat\n",
    "import pandas\n",
    "from tqdm import tqdm"
   ]
  },
  {
   "cell_type": "code",
   "execution_count": 2,
   "id": "0763d597",
   "metadata": {},
   "outputs": [
    {
     "data": {
      "text/html": [
       "<div>\n",
       "<style scoped>\n",
       "    .dataframe tbody tr th:only-of-type {\n",
       "        vertical-align: middle;\n",
       "    }\n",
       "\n",
       "    .dataframe tbody tr th {\n",
       "        vertical-align: top;\n",
       "    }\n",
       "\n",
       "    .dataframe thead th {\n",
       "        text-align: right;\n",
       "    }\n",
       "</style>\n",
       "<table border=\"1\" class=\"dataframe\">\n",
       "  <thead>\n",
       "    <tr style=\"text-align: right;\">\n",
       "      <th></th>\n",
       "      <th>DDI_ID</th>\n",
       "      <th>DDI_file</th>\n",
       "      <th>skin_tone</th>\n",
       "      <th>malignant</th>\n",
       "      <th>disease</th>\n",
       "    </tr>\n",
       "  </thead>\n",
       "  <tbody>\n",
       "    <tr>\n",
       "      <th>0</th>\n",
       "      <td>1</td>\n",
       "      <td>000001.png</td>\n",
       "      <td>56</td>\n",
       "      <td>True</td>\n",
       "      <td>melanoma-in-situ</td>\n",
       "    </tr>\n",
       "    <tr>\n",
       "      <th>1</th>\n",
       "      <td>2</td>\n",
       "      <td>000002.png</td>\n",
       "      <td>56</td>\n",
       "      <td>True</td>\n",
       "      <td>melanoma-in-situ</td>\n",
       "    </tr>\n",
       "    <tr>\n",
       "      <th>2</th>\n",
       "      <td>3</td>\n",
       "      <td>000003.png</td>\n",
       "      <td>56</td>\n",
       "      <td>True</td>\n",
       "      <td>mycosis-fungoides</td>\n",
       "    </tr>\n",
       "    <tr>\n",
       "      <th>3</th>\n",
       "      <td>4</td>\n",
       "      <td>000004.png</td>\n",
       "      <td>56</td>\n",
       "      <td>True</td>\n",
       "      <td>squamous-cell-carcinoma-in-situ</td>\n",
       "    </tr>\n",
       "    <tr>\n",
       "      <th>4</th>\n",
       "      <td>5</td>\n",
       "      <td>000005.png</td>\n",
       "      <td>12</td>\n",
       "      <td>True</td>\n",
       "      <td>basal-cell-carcinoma</td>\n",
       "    </tr>\n",
       "  </tbody>\n",
       "</table>\n",
       "</div>"
      ],
      "text/plain": [
       "   DDI_ID    DDI_file  skin_tone  malignant                          disease\n",
       "0       1  000001.png         56       True                 melanoma-in-situ\n",
       "1       2  000002.png         56       True                 melanoma-in-situ\n",
       "2       3  000003.png         56       True                mycosis-fungoides\n",
       "3       4  000004.png         56       True  squamous-cell-carcinoma-in-situ\n",
       "4       5  000005.png         12       True             basal-cell-carcinoma"
      ]
     },
     "execution_count": 2,
     "metadata": {},
     "output_type": "execute_result"
    }
   ],
   "source": [
    "ddi_data_csv = pandas.read_csv('ddi_metadata.csv',index_col=0)\n",
    "ddi_data_csv.head()"
   ]
  },
  {
   "cell_type": "code",
   "execution_count": 3,
   "id": "d4f330ed",
   "metadata": {},
   "outputs": [],
   "source": [
    "img_list = list(ddi_data_csv['DDI_file'])\n",
    "for i in img_list:\n",
    "    assert os.path.exists(os.path.join('ddidiversedermatologyimages',i))\n",
    "img_list = [os.path.join('ddidiversedermatologyimages',i) for i in img_list]"
   ]
  },
  {
   "cell_type": "code",
   "execution_count": 4,
   "id": "0b419702",
   "metadata": {},
   "outputs": [],
   "source": [
    "malignant_cls = [1 if i == True else 0 for i in list(ddi_data_csv['malignant'])] #[0,0,1,1,]\n",
    "disease_cls = [i for i in list(ddi_data_csv['disease'])]"
   ]
  },
  {
   "cell_type": "code",
   "execution_count": 5,
   "id": "fb1650e3",
   "metadata": {},
   "outputs": [
    {
     "data": {
      "text/plain": [
       "<Figure size 432x288 with 0 Axes>"
      ]
     },
     "metadata": {},
     "output_type": "display_data"
    }
   ],
   "source": [
    "#这里为了更好的选出好的滤波器，我们选择了调节参数选择了24个滤波器，选择一个滤波效果最好的滤波器最好的\n",
    "def build_filters():\n",
    "     filters = []\n",
    "     ksize = [7,9,11,13,15,17] # gabor尺度，6个\n",
    "     lamda = np.pi/2.0         # 波长\n",
    "     for theta in np.arange(0, np.pi, np.pi / 4): #gabor方向，0°，45°，90°，135°，共四个\n",
    "         for K in range(6):\n",
    "            \n",
    "                 kern = cv2.getGaborKernel((ksize[K], ksize[K]), 1.0, theta, lamda, 0.5, 0, ktype=cv2.CV_32F)\n",
    "                 kern /= 1.5*kern.sum()\n",
    "                 filters.append(kern)\n",
    "     plt.figure(1)\n",
    "\n",
    "     #用于绘制滤波器\n",
    "     #for temp in range(len(filters)):\n",
    "     #    plt.subplot(4, 6, temp + 1)\n",
    "     #    plt.imshow(filters[temp])\n",
    "    # plt.show()\n",
    "     return filters\n",
    "\n",
    "\n",
    "#Gabor特征提取\n",
    "def getGabor(img,filters):\n",
    "    res = [] #滤波结果\n",
    "    for i in range(len(filters)):\n",
    "        # res1 = process(img, filters[i])\n",
    "        accum = np.zeros_like(img)\n",
    "        for kern in filters[i]:\n",
    "            fimg = cv2.filter2D(img, cv2.CV_8UC1, kern)\n",
    "            accum = np.maximum(accum, fimg, accum)\n",
    "        res.append(np.asarray(accum))\n",
    "   # print(res)\n",
    "    #用于绘制滤波效果\n",
    "    plt.figure(2)\n",
    "    for temp in range(len(res)):\n",
    "        plt.subplot(4,6,temp+1)\n",
    "        plt.imshow(res[temp], cmap='gray' )\n",
    "   # plt.show()\n",
    "    return res  #返回滤波结果,结果为24幅图，按照gabor角度排列\n",
    "filters = build_filters()"
   ]
  },
  {
   "cell_type": "code",
   "execution_count": 6,
   "id": "6f6f0734",
   "metadata": {},
   "outputs": [
    {
     "data": {
      "text/plain": [
       "[[(285, 306), 28, 0],\n",
       " [(285, 306), 26, 0],\n",
       " [(285, 306), 26, 0],\n",
       " [(285, 306), 26, 0],\n",
       " [(285, 306), 26, 0],\n",
       " [(285, 306), 26, 0],\n",
       " [(285, 306), 255, 0],\n",
       " [(285, 306), 255, 0],\n",
       " [(285, 306), 255, 0],\n",
       " [(285, 306), 255, 0],\n",
       " [(285, 306), 255, 0],\n",
       " [(285, 306), 255, 0],\n",
       " [(285, 306), 255, 0],\n",
       " [(285, 306), 255, 0],\n",
       " [(285, 306), 255, 0],\n",
       " [(285, 306), 255, 0],\n",
       " [(285, 306), 255, 0],\n",
       " [(285, 306), 255, 0],\n",
       " [(285, 306), 255, 0],\n",
       " [(285, 306), 255, 0],\n",
       " [(285, 306), 255, 0],\n",
       " [(285, 306), 255, 0],\n",
       " [(285, 306), 255, 0],\n",
       " [(285, 306), 255, 0]]"
      ]
     },
     "execution_count": 6,
     "metadata": {},
     "output_type": "execute_result"
    },
    {
     "data": {
      "image/png": "[encoded data removed]",
      "text/plain": [
       "<Figure size 432x288 with 24 Axes>"
      ]
     },
     "metadata": {
      "needs_background": "light"
     },
     "output_type": "display_data"
    }
   ],
   "source": [
    "img = cv2.imread( img_list[3],cv2.IMREAD_GRAYSCALE)\n",
    "[[i.shape,i.max(),i.min()] for i in getGabor(img,filters)]"
   ]
  },
  {
   "cell_type": "code",
   "execution_count": 7,
   "id": "b863d0f1",
   "metadata": {},
   "outputs": [
    {
     "data": {
      "image/png": "[encoded data removed]",
      "text/plain": [
       "<Figure size 432x288 with 1 Axes>"
      ]
     },
     "metadata": {
      "needs_background": "light"
     },
     "output_type": "display_data"
    }
   ],
   "source": [
    "filters = filters[3:4]\n",
    "resized_img = cv2.resize(img,(40,40))\n",
    "res = getGabor(resized_img,filters)"
   ]
  },
  {
   "cell_type": "code",
   "execution_count": 8,
   "id": "9f0f2251",
   "metadata": {},
   "outputs": [
    {
     "name": "stderr",
     "output_type": "stream",
     "text": [
      "100%|████████████████████████████████████████| 656/656 [00:06<00:00, 106.40it/s]\n"
     ]
    },
    {
     "data": {
      "image/png": "[encoded data removed]",
      "text/plain": [
       "<Figure size 432x288 with 1 Axes>"
      ]
     },
     "metadata": {
      "needs_background": "light"
     },
     "output_type": "display_data"
    }
   ],
   "source": [
    "feature_list = []\n",
    "for i in tqdm(img_list):\n",
    "    img = cv2.imread( i,cv2.IMREAD_GRAYSCALE)\n",
    "    resized_img = cv2.resize(img,(40,40)) \n",
    "    res = getGabor(resized_img,filters)[0].reshape(1600)\n",
    "    feature_list.append(list(res))"
   ]
  },
  {
   "cell_type": "code",
   "execution_count": 10,
   "id": "2c3d10a4",
   "metadata": {},
   "outputs": [],
   "source": [
    "featuremap_pd = pandas.DataFrame(columns=['img_name','malignant_cls','disease_cls']+[i for i in range(1600)])"
   ]
  },
  {
   "cell_type": "code",
   "execution_count": 11,
   "id": "52130740",
   "metadata": {},
   "outputs": [
    {
     "name": "stderr",
     "output_type": "stream",
     "text": [
      "656it [00:45, 14.42it/s]\n"
     ]
    }
   ],
   "source": [
    "for idx,i in tqdm(enumerate(img_list)):\n",
    "    content = {'img_name':os.path.basename(i),\n",
    "                'malignant_cls':malignant_cls[idx],\n",
    "                'disease_cls':disease_cls[idx]}\n",
    "    feature_dict = {ids:j for ids,j in enumerate(feature_list[idx])}\n",
    "    total = {}\n",
    "    total.update(feature_dict)\n",
    "    total.update(content)\n",
    "    featuremap_pd = featuremap_pd.append(total,ignore_index=True)"
   ]
  },
  {
   "cell_type": "code",
   "execution_count": 12,
   "id": "77dc883e",
   "metadata": {},
   "outputs": [
    {
     "data": {
      "text/plain": [
       "'{\"melanocytic-nevi\":119,\"seborrheic-keratosis\":58,\"verruca-vulgaris\":50,\"basal-cell-carcinoma\":41,\"epidermal-cyst\":35,\"mycosis-fungoides\":32,\"squamous-cell-carcinoma-in-situ\":28,\"dermatofibroma\":22,\"acrochordon\":19,\"squamous-cell-carcinoma\":17,\"dysplastic-nevus\":16,\"pyogenic-granuloma\":14,\"seborrheic-keratosis-irritated\":14,\"neurofibroma\":12,\"angioma\":11,\"eccrine-poroma\":10,\"squamous-cell-carcinoma-keratoacanthoma\":8,\"melanoma\":7,\"melanoma-acral-lentiginous\":7,\"kaposi-sarcoma\":6,\"molluscum-contagiosum\":6,\"nevus-lipomatosus-superficialis\":6,\"melanoma-in-situ\":6,\"basal-cell-carcinoma-nodular\":6,\"blue-nevus\":6,\"lipoma\":6,\"inverted-follicular-keratosis\":5,\"metastatic-carcinoma\":5,\"prurigo-nodularis\":5,\"eczema-spongiotic-dermatitis\":4,\"actinic-keratosis\":4,\"solar-lentigo\":4,\"arteriovenous-hemangioma\":3,\"hyperpigmentation\":3,\"trichilemmoma\":3,\"abrasions-ulcerations-and-physical-injuries\":3,\"benign-keratosis\":3,\"xanthogranuloma\":2,\"graft-vs-host-disease\":2,\"condyloma-accuminatum\":2,\"fibrous-papule\":2,\"foreign-body-granuloma\":2,\"basal-cell-carcinoma-superficial\":2,\"scar\":2,\"trichofolliculoma\":2,\"onychomycosis\":2,\"syringocystadenoma-papilliferum\":2,\"acquired-digital-fibrokeratoma\":2,\"reactive-lymphoid-hyperplasia\":1,\"cellular-neurothekeoma\":1,\"lichenoid-keratosis\":1,\"tinea-pedis\":1,\"coccidioidomycosis\":1,\"leukemia-cutis\":1,\"sebaceous-carcinoma\":1,\"chondroid-syringoma\":1,\"dermatomyositis\":1,\"clear-cell-acanthoma\":1,\"abscess\":1,\"blastic-plasmacytoid-dendritic-cell-neoplasm\":1,\"glomangioma\":1,\"epidermal-nevus\":1,\"pigmented-spindle-cell-nevus-of-reed\":1,\"nodular-melanoma-(nm)\":1,\"neuroma\":1,\"morphea\":1,\"subcutaneous-t-cell-lymphoma\":1,\"verruciform-xanthoma\":1,\"acne-cystic\":1,\"atypical-spindle-cell-nevus-of-reed\":1,\"folliculitis\":1,\"focal-acral-hyperkeratosis\":1,\"hematoma\":1,\"keloid\":1,\"angioleiomyoma\":1,\"lymphocytic-infiltrations\":1,\"wart\":1,\"acral-melanotic-macule\":1}'"
      ]
     },
     "execution_count": 12,
     "metadata": {},
     "output_type": "execute_result"
    }
   ],
   "source": [
    "pandas.value_counts(disease_cls).to_json()"
   ]
  },
  {
   "cell_type": "code",
   "execution_count": 13,
   "id": "29b2498f",
   "metadata": {},
   "outputs": [],
   "source": [
    "preserve_cls = ['melanocytic-nevi','seborrheic-keratosis','verruca-vulgaris','basal-cell-carcinoma']"
   ]
  },
  {
   "cell_type": "code",
   "execution_count": 14,
   "id": "f3762241",
   "metadata": {},
   "outputs": [],
   "source": [
    "disease_featuremap=[]\n",
    "disease_cls_idx=[]\n",
    "for idx,i in enumerate(disease_cls):\n",
    "    if i in preserve_cls:\n",
    "        disease_featuremap.append(feature_list[idx])\n",
    "        disease_cls_idx.append(preserve_cls.index(i))"
   ]
  },
  {
   "cell_type": "markdown",
   "id": "50af13f2",
   "metadata": {},
   "source": [
    "# Classification"
   ]
  },
  {
   "cell_type": "markdown",
   "id": "3715e014",
   "metadata": {},
   "source": [
    "### Random Forest"
   ]
  },
  {
   "cell_type": "markdown",
   "id": "39238847",
   "metadata": {},
   "source": [
    "#### RF - Binary Model"
   ]
  },
  {
   "cell_type": "code",
   "execution_count": 30,
   "id": "96c69845",
   "metadata": {},
   "outputs": [],
   "source": [
    "from sklearn.ensemble import RandomForestClassifier as rfc\n",
    "import sklearn.datasets as skdata\n",
    "import matplotlib.pyplot as plt\n",
    "from sklearn.model_selection  import KFold\n",
    "from sklearn.model_selection import cross_val_score\n",
    "from sklearn.metrics import accuracy_score\n",
    "from sklearn.metrics import precision_score\n",
    "from sklearn.metrics import f1_score\n",
    "from sklearn.metrics import recall_score\n",
    "from sklearn.metrics import roc_auc_score"
   ]
  },
  {
   "cell_type": "code",
   "execution_count": 19,
   "id": "1ce0a34e",
   "metadata": {},
   "outputs": [],
   "source": [
    "data_x,data_y = feature_list,malignant_cls"
   ]
  },
  {
   "cell_type": "code",
   "execution_count": 67,
   "id": "a6cb5d46",
   "metadata": {},
   "outputs": [],
   "source": [
    "#cross-validation method\n",
    "cv = KFold(n_splits=5, random_state=20, shuffle=True)\n",
    "\n",
    "#build RF model\n",
    "model_rfc = rfc()\n",
    "\n",
    "#use k-fold CV to evaluate model\n",
    "rf_accu = cross_val_score(model_rfc, data_x, data_y, scoring='accuracy', cv=cv, n_jobs=-1)\n",
    "rf_pres = cross_val_score(model_rfc, data_x, data_y, scoring='precision', cv=cv, n_jobs=-1)\n",
    "rf_f1 = cross_val_score(model_rfc, data_x, data_y, scoring='f1', cv=cv, n_jobs=-1)\n",
    "rf_recal = cross_val_score(model_rfc, data_x, data_y, scoring='recall', cv=cv, n_jobs=-1)\n",
    "rf_roc = cross_val_score(model_rfc, data_x, data_y, scoring='roc_auc', cv=cv, n_jobs=-1)"
   ]
  },
  {
   "cell_type": "code",
   "execution_count": 68,
   "id": "07dfca7e",
   "metadata": {},
   "outputs": [
    {
     "data": {
      "text/plain": [
       "0.7423201480453387"
      ]
     },
     "execution_count": 68,
     "metadata": {},
     "output_type": "execute_result"
    }
   ],
   "source": [
    "np.mean(rf_accu)"
   ]
  },
  {
   "cell_type": "code",
   "execution_count": 69,
   "id": "ad6b5cc4",
   "metadata": {},
   "outputs": [
    {
     "data": {
      "text/plain": [
       "0.5833333333333333"
      ]
     },
     "execution_count": 69,
     "metadata": {},
     "output_type": "execute_result"
    }
   ],
   "source": [
    "np.mean(rf_pres)"
   ]
  },
  {
   "cell_type": "code",
   "execution_count": 70,
   "id": "a95908e7",
   "metadata": {},
   "outputs": [
    {
     "data": {
      "text/plain": [
       "0.1449310405407966"
      ]
     },
     "execution_count": 70,
     "metadata": {},
     "output_type": "execute_result"
    }
   ],
   "source": [
    "np.mean(rf_f1)"
   ]
  },
  {
   "cell_type": "code",
   "execution_count": 71,
   "id": "44cc81f1",
   "metadata": {},
   "outputs": [
    {
     "data": {
      "text/plain": [
       "0.04057941696188122"
      ]
     },
     "execution_count": 71,
     "metadata": {},
     "output_type": "execute_result"
    }
   ],
   "source": [
    "np.mean(rf_recal)"
   ]
  },
  {
   "cell_type": "code",
   "execution_count": 72,
   "id": "c7204b93",
   "metadata": {},
   "outputs": [
    {
     "data": {
      "text/plain": [
       "0.5774986119981936"
      ]
     },
     "execution_count": 72,
     "metadata": {},
     "output_type": "execute_result"
    }
   ],
   "source": [
    "np.mean(rf_roc)"
   ]
  },
  {
   "cell_type": "markdown",
   "id": "224320f6",
   "metadata": {},
   "source": [
    "#### RF Multi-Class Model"
   ]
  },
  {
   "cell_type": "code",
   "execution_count": 20,
   "id": "ebc1aa11",
   "metadata": {},
   "outputs": [],
   "source": [
    "mul_data_x, mul_data_y = disease_featuremap, disease_cls_idx"
   ]
  },
  {
   "cell_type": "code",
   "execution_count": 54,
   "id": "55818181",
   "metadata": {},
   "outputs": [
    {
     "name": "stderr",
     "output_type": "stream",
     "text": [
      "/Users/suetlingku/opt/anaconda3/lib/python3.9/site-packages/sklearn/metrics/_classification.py:1318: UndefinedMetricWarning: Precision is ill-defined and being set to 0.0 in labels with no predicted samples. Use `zero_division` parameter to control this behavior.\n",
      "  _warn_prf(average, modifier, msg_start, len(result))\n"
     ]
    }
   ],
   "source": [
    "#cross-validation method\n",
    "cv = KFold(n_splits=5, random_state=20, shuffle=True)\n",
    "\n",
    "#build RF model\n",
    "model_rfc = rfc()\n",
    "\n",
    "#use k-fold CV to evaluate model\n",
    "mrf_accu = cross_val_score(model_rfc, mul_data_x, mul_data_y, scoring='accuracy', cv=cv)\n",
    "mrf_pres = cross_val_score(model_rfc, mul_data_x, mul_data_y, scoring='precision_macro', cv=cv)\n",
    "mrf_f1 = cross_val_score(model_rfc, mul_data_x, mul_data_y, scoring='f1_macro', cv=cv)\n",
    "mrf_recal = cross_val_score(model_rfc, mul_data_x, mul_data_y, scoring='recall_macro', cv=cv)"
   ]
  },
  {
   "cell_type": "code",
   "execution_count": 55,
   "id": "38721925",
   "metadata": {},
   "outputs": [
    {
     "data": {
      "text/plain": [
       "0.3914046121593291"
      ]
     },
     "execution_count": 55,
     "metadata": {},
     "output_type": "execute_result"
    }
   ],
   "source": [
    "np.mean(mrf_accu)"
   ]
  },
  {
   "cell_type": "code",
   "execution_count": 56,
   "id": "be9c6195",
   "metadata": {},
   "outputs": [
    {
     "data": {
      "text/plain": [
       "0.2405055127938423"
      ]
     },
     "execution_count": 56,
     "metadata": {},
     "output_type": "execute_result"
    }
   ],
   "source": [
    "np.mean(mrf_pres)"
   ]
  },
  {
   "cell_type": "code",
   "execution_count": 57,
   "id": "9c2ce6f4",
   "metadata": {},
   "outputs": [
    {
     "data": {
      "text/plain": [
       "0.24159157610105747"
      ]
     },
     "execution_count": 57,
     "metadata": {},
     "output_type": "execute_result"
    }
   ],
   "source": [
    "np.mean(mrf_f1)"
   ]
  },
  {
   "cell_type": "code",
   "execution_count": 58,
   "id": "6792f9bc",
   "metadata": {},
   "outputs": [
    {
     "data": {
      "text/plain": [
       "0.24666666666666667"
      ]
     },
     "execution_count": 58,
     "metadata": {},
     "output_type": "execute_result"
    }
   ],
   "source": [
    "np.mean(mrf_recal)"
   ]
  },
  {
   "cell_type": "markdown",
   "id": "2ec1833a",
   "metadata": {},
   "source": [
    "### Decision Tree"
   ]
  },
  {
   "cell_type": "markdown",
   "id": "0ec16096",
   "metadata": {},
   "source": [
    "#### DT - Binary Model"
   ]
  },
  {
   "cell_type": "code",
   "execution_count": 17,
   "id": "c5cf7be4",
   "metadata": {},
   "outputs": [],
   "source": [
    "from sklearn.tree import DecisionTreeClassifier\n",
    "import sklearn.datasets as skdata\n",
    "import matplotlib.pyplot as plt\n",
    "from sklearn.model_selection  import KFold\n",
    "from sklearn.model_selection import cross_val_score\n",
    "from sklearn.metrics import accuracy_score,precision_score,f1_score,recall_score,roc_auc_score"
   ]
  },
  {
   "cell_type": "code",
   "execution_count": 62,
   "id": "fbb2f494",
   "metadata": {},
   "outputs": [],
   "source": [
    "#cross-validation method\n",
    "cv = KFold(n_splits=5, random_state=20, shuffle=True)\n",
    "\n",
    "#build RF model\n",
    "model_dt = DecisionTreeClassifier()\n",
    "\n",
    "#use k-fold CV to evaluate model\n",
    "dt_accu = cross_val_score(model_dt, data_x, data_y, scoring='accuracy', cv=cv, n_jobs=-1)\n",
    "dt_pres = cross_val_score(model_dt, data_x, data_y, scoring='precision', cv=cv, n_jobs=-1)\n",
    "dt_f1 = cross_val_score(model_dt, data_x, data_y, scoring='f1', cv=cv, n_jobs=-1)\n",
    "dt_recal = cross_val_score(model_dt, data_x, data_y, scoring='recall', cv=cv, n_jobs=-1)\n",
    "dt_roc = cross_val_score(model_dt, data_x, data_y, scoring='roc_auc', cv=cv, n_jobs=-1)"
   ]
  },
  {
   "cell_type": "code",
   "execution_count": 63,
   "id": "842e1e2f",
   "metadata": {},
   "outputs": [
    {
     "data": {
      "text/plain": [
       "0.6111612306268794"
      ]
     },
     "execution_count": 63,
     "metadata": {},
     "output_type": "execute_result"
    }
   ],
   "source": [
    "np.mean(dt_accu)"
   ]
  },
  {
   "cell_type": "code",
   "execution_count": 64,
   "id": "6d1004b8",
   "metadata": {},
   "outputs": [
    {
     "data": {
      "text/plain": [
       "0.28766901526229793"
      ]
     },
     "execution_count": 64,
     "metadata": {},
     "output_type": "execute_result"
    }
   ],
   "source": [
    "np.mean(dt_pres)"
   ]
  },
  {
   "cell_type": "code",
   "execution_count": 65,
   "id": "bff2617d",
   "metadata": {},
   "outputs": [
    {
     "data": {
      "text/plain": [
       "0.29806999203252355"
      ]
     },
     "execution_count": 65,
     "metadata": {},
     "output_type": "execute_result"
    }
   ],
   "source": [
    "np.mean(dt_f1)"
   ]
  },
  {
   "cell_type": "code",
   "execution_count": 66,
   "id": "a383894c",
   "metadata": {},
   "outputs": [
    {
     "data": {
      "text/plain": [
       "0.3222036916685781"
      ]
     },
     "execution_count": 66,
     "metadata": {},
     "output_type": "execute_result"
    }
   ],
   "source": [
    "np.mean(dt_recal)"
   ]
  },
  {
   "cell_type": "code",
   "execution_count": 67,
   "id": "7df87c3e",
   "metadata": {},
   "outputs": [
    {
     "data": {
      "text/plain": [
       "0.5239010764718336"
      ]
     },
     "execution_count": 67,
     "metadata": {},
     "output_type": "execute_result"
    }
   ],
   "source": [
    "np.mean(dt_roc)"
   ]
  },
  {
   "cell_type": "markdown",
   "id": "ca1aa665",
   "metadata": {},
   "source": [
    "#### DT - Multi Class Model"
   ]
  },
  {
   "cell_type": "code",
   "execution_count": 69,
   "id": "80692694",
   "metadata": {},
   "outputs": [],
   "source": [
    "#cross-validation method\n",
    "cv = KFold(n_splits=5, random_state=20, shuffle=True)\n",
    "\n",
    "#build DT model\n",
    "model_dt = DecisionTreeClassifier()\n",
    "\n",
    "#use k-fold CV to evaluate model\n",
    "mdt_accu = cross_val_score(model_dt, mul_data_x, mul_data_y, scoring='accuracy', cv=cv)\n",
    "mdt_pres = cross_val_score(model_dt, mul_data_x, mul_data_y, scoring='precision_macro', cv=cv)\n",
    "mdt_f1 = cross_val_score(model_dt, mul_data_x, mul_data_y, scoring='f1_macro', cv=cv)\n",
    "mdt_recal = cross_val_score(model_dt, mul_data_x, mul_data_y, scoring='recall_macro', cv=cv)"
   ]
  },
  {
   "cell_type": "code",
   "execution_count": 70,
   "id": "efd634d0",
   "metadata": {},
   "outputs": [
    {
     "data": {
      "text/plain": [
       "0.3504542278127184"
      ]
     },
     "execution_count": 70,
     "metadata": {},
     "output_type": "execute_result"
    }
   ],
   "source": [
    "np.mean(mdt_accu)"
   ]
  },
  {
   "cell_type": "code",
   "execution_count": 71,
   "id": "82903e7f",
   "metadata": {},
   "outputs": [
    {
     "data": {
      "text/plain": [
       "0.23186025851214637"
      ]
     },
     "execution_count": 71,
     "metadata": {},
     "output_type": "execute_result"
    }
   ],
   "source": [
    "np.mean(mdt_pres)"
   ]
  },
  {
   "cell_type": "code",
   "execution_count": 72,
   "id": "3352ba97",
   "metadata": {},
   "outputs": [
    {
     "data": {
      "text/plain": [
       "0.2616830425183588"
      ]
     },
     "execution_count": 72,
     "metadata": {},
     "output_type": "execute_result"
    }
   ],
   "source": [
    "np.mean(mdt_f1)"
   ]
  },
  {
   "cell_type": "code",
   "execution_count": 73,
   "id": "1af76a47",
   "metadata": {},
   "outputs": [
    {
     "data": {
      "text/plain": [
       "0.28831998556998556"
      ]
     },
     "execution_count": 73,
     "metadata": {},
     "output_type": "execute_result"
    }
   ],
   "source": [
    "np.mean(mdt_recal)"
   ]
  },
  {
   "cell_type": "markdown",
   "id": "f6d5f922",
   "metadata": {},
   "source": [
    "### Support Vector Machine"
   ]
  },
  {
   "cell_type": "markdown",
   "id": "382743ef",
   "metadata": {},
   "source": [
    "#### SVM - Binary Model"
   ]
  },
  {
   "cell_type": "code",
   "execution_count": 73,
   "id": "26a64af1",
   "metadata": {},
   "outputs": [
    {
     "name": "stderr",
     "output_type": "stream",
     "text": [
      "/Users/suetlingku/opt/anaconda3/lib/python3.9/site-packages/sklearn/metrics/_classification.py:1318: UndefinedMetricWarning: Precision is ill-defined and being set to 0.0 due to no predicted samples. Use `zero_division` parameter to control this behavior.\n",
      "  _warn_prf(average, modifier, msg_start, len(result))\n",
      "/Users/suetlingku/opt/anaconda3/lib/python3.9/site-packages/sklearn/metrics/_classification.py:1318: UndefinedMetricWarning: Precision is ill-defined and being set to 0.0 due to no predicted samples. Use `zero_division` parameter to control this behavior.\n",
      "  _warn_prf(average, modifier, msg_start, len(result))\n",
      "/Users/suetlingku/opt/anaconda3/lib/python3.9/site-packages/sklearn/metrics/_classification.py:1318: UndefinedMetricWarning: Precision is ill-defined and being set to 0.0 due to no predicted samples. Use `zero_division` parameter to control this behavior.\n",
      "  _warn_prf(average, modifier, msg_start, len(result))\n"
     ]
    }
   ],
   "source": [
    "from sklearn.svm import SVC\n",
    "\n",
    "cv = KFold(n_splits=5, random_state=20, shuffle=True)\n",
    "\n",
    "model_svm = SVC(kernel ='rbf', random_state = 0)\n",
    "\n",
    "svm_accu = cross_val_score(model_svm, data_x, data_y, scoring='accuracy', cv=cv, n_jobs=-1)\n",
    "svm_pres = cross_val_score(model_svm, data_x, data_y, scoring='precision', cv=cv, n_jobs=-1)\n",
    "svm_f1 = cross_val_score(model_svm, data_x, data_y, scoring='f1', cv=cv, n_jobs=-1)\n",
    "svm_recal = cross_val_score(model_svm, data_x, data_y, scoring='recall', cv=cv, n_jobs=-1)\n",
    "svm_roc = cross_val_score(model_svm, data_x, data_y, scoring='roc_auc', cv=cv, n_jobs=-1)"
   ]
  },
  {
   "cell_type": "code",
   "execution_count": 74,
   "id": "35648f8f",
   "metadata": {},
   "outputs": [
    {
     "data": {
      "text/plain": [
       "0.7423085820032385"
      ]
     },
     "execution_count": 74,
     "metadata": {},
     "output_type": "execute_result"
    }
   ],
   "source": [
    "np.mean(svm_accu)"
   ]
  },
  {
   "cell_type": "code",
   "execution_count": 75,
   "id": "2ad8c8cc",
   "metadata": {},
   "outputs": [
    {
     "data": {
      "text/plain": [
       "0.4"
      ]
     },
     "execution_count": 75,
     "metadata": {},
     "output_type": "execute_result"
    }
   ],
   "source": [
    "np.mean(svm_pres)"
   ]
  },
  {
   "cell_type": "code",
   "execution_count": 76,
   "id": "306c052d",
   "metadata": {},
   "outputs": [
    {
     "data": {
      "text/plain": [
       "0.025098039215686273"
      ]
     },
     "execution_count": 76,
     "metadata": {},
     "output_type": "execute_result"
    }
   ],
   "source": [
    "np.mean(svm_f1)"
   ]
  },
  {
   "cell_type": "code",
   "execution_count": 77,
   "id": "bf2b73d9",
   "metadata": {},
   "outputs": [
    {
     "data": {
      "text/plain": [
       "0.012957157784743992"
      ]
     },
     "execution_count": 77,
     "metadata": {},
     "output_type": "execute_result"
    }
   ],
   "source": [
    "np.mean(svm_recal)"
   ]
  },
  {
   "cell_type": "code",
   "execution_count": 78,
   "id": "cb761cfc",
   "metadata": {},
   "outputs": [
    {
     "data": {
      "text/plain": [
       "0.549755671567049"
      ]
     },
     "execution_count": 78,
     "metadata": {},
     "output_type": "execute_result"
    }
   ],
   "source": [
    "np.mean(svm_roc)"
   ]
  },
  {
   "cell_type": "markdown",
   "id": "33456c18",
   "metadata": {},
   "source": [
    "#### SVM - Multi Class"
   ]
  },
  {
   "cell_type": "code",
   "execution_count": 49,
   "id": "e90b54d1",
   "metadata": {},
   "outputs": [
    {
     "name": "stderr",
     "output_type": "stream",
     "text": [
      "/Users/suetlingku/opt/anaconda3/lib/python3.9/site-packages/sklearn/metrics/_classification.py:1318: UndefinedMetricWarning: Precision is ill-defined and being set to 0.0 in labels with no predicted samples. Use `zero_division` parameter to control this behavior.\n",
      "  _warn_prf(average, modifier, msg_start, len(result))\n",
      "/Users/suetlingku/opt/anaconda3/lib/python3.9/site-packages/sklearn/metrics/_classification.py:1318: UndefinedMetricWarning: Precision is ill-defined and being set to 0.0 in labels with no predicted samples. Use `zero_division` parameter to control this behavior.\n",
      "  _warn_prf(average, modifier, msg_start, len(result))\n",
      "/Users/suetlingku/opt/anaconda3/lib/python3.9/site-packages/sklearn/metrics/_classification.py:1318: UndefinedMetricWarning: Precision is ill-defined and being set to 0.0 in labels with no predicted samples. Use `zero_division` parameter to control this behavior.\n",
      "  _warn_prf(average, modifier, msg_start, len(result))\n",
      "/Users/suetlingku/opt/anaconda3/lib/python3.9/site-packages/sklearn/metrics/_classification.py:1318: UndefinedMetricWarning: Precision is ill-defined and being set to 0.0 in labels with no predicted samples. Use `zero_division` parameter to control this behavior.\n",
      "  _warn_prf(average, modifier, msg_start, len(result))\n",
      "/Users/suetlingku/opt/anaconda3/lib/python3.9/site-packages/sklearn/metrics/_classification.py:1318: UndefinedMetricWarning: Precision is ill-defined and being set to 0.0 in labels with no predicted samples. Use `zero_division` parameter to control this behavior.\n",
      "  _warn_prf(average, modifier, msg_start, len(result))\n"
     ]
    }
   ],
   "source": [
    "cv = KFold(n_splits=5, random_state=20, shuffle=True)\n",
    "\n",
    "model_svm = SVC(kernel ='rbf', random_state = 0)\n",
    "\n",
    "msvm_accu = cross_val_score(model_svm, mul_data_x, mul_data_y, scoring='accuracy', cv=cv)\n",
    "msvm_pres = cross_val_score(model_svm, mul_data_x, mul_data_y, scoring='precision_macro', cv=cv)\n",
    "msvm_f1 = cross_val_score(model_svm, mul_data_x, mul_data_y, scoring='f1_macro', cv=cv)\n",
    "msvm_recal = cross_val_score(model_svm, mul_data_x, mul_data_y, scoring='recall_macro', cv=cv)"
   ]
  },
  {
   "cell_type": "code",
   "execution_count": 50,
   "id": "b333e307",
   "metadata": {},
   "outputs": [
    {
     "data": {
      "text/plain": [
       "0.4401816911250874"
      ]
     },
     "execution_count": 50,
     "metadata": {},
     "output_type": "execute_result"
    }
   ],
   "source": [
    "np.mean(msvm_accu)"
   ]
  },
  {
   "cell_type": "code",
   "execution_count": 51,
   "id": "1be0c7c5",
   "metadata": {},
   "outputs": [
    {
     "data": {
      "text/plain": [
       "0.11046470999301188"
      ]
     },
     "execution_count": 51,
     "metadata": {},
     "output_type": "execute_result"
    }
   ],
   "source": [
    "np.mean(msvm_pres)"
   ]
  },
  {
   "cell_type": "code",
   "execution_count": 52,
   "id": "a46d2566",
   "metadata": {},
   "outputs": [
    {
     "data": {
      "text/plain": [
       "0.15263257348396936"
      ]
     },
     "execution_count": 52,
     "metadata": {},
     "output_type": "execute_result"
    }
   ],
   "source": [
    "np.mean(msvm_f1)"
   ]
  },
  {
   "cell_type": "code",
   "execution_count": 53,
   "id": "15da71c2",
   "metadata": {},
   "outputs": [
    {
     "data": {
      "text/plain": [
       "0.248"
      ]
     },
     "execution_count": 53,
     "metadata": {},
     "output_type": "execute_result"
    }
   ],
   "source": [
    "np.mean(msvm_recal)"
   ]
  },
  {
   "cell_type": "markdown",
   "id": "9bf85ba9",
   "metadata": {},
   "source": [
    "### Naive Bayes"
   ]
  },
  {
   "cell_type": "markdown",
   "id": "f3e5413d",
   "metadata": {},
   "source": [
    "#### Binary - Naive Bayes"
   ]
  },
  {
   "cell_type": "code",
   "execution_count": 87,
   "id": "7934454e",
   "metadata": {},
   "outputs": [],
   "source": [
    "from sklearn.naive_bayes import GaussianNB\n",
    "\n",
    "cv = KFold(n_splits=5, random_state=20, shuffle=True)\n",
    "\n",
    "model_gNB = GaussianNB()\n",
    "\n",
    "nb_accu = cross_val_score(model_gNB, data_x, data_y, scoring='accuracy', cv=cv, n_jobs=-1)\n",
    "nb_pres = cross_val_score(model_gNB, data_x, data_y, scoring='precision', cv=cv, n_jobs=-1)\n",
    "nb_f1 = cross_val_score(model_gNB, data_x, data_y, scoring='f1', cv=cv, n_jobs=-1)\n",
    "nb_recal = cross_val_score(model_gNB, data_x, data_y, scoring='recall', cv=cv, n_jobs=-1)\n",
    "nb_roc = cross_val_score(model_gNB, data_x, data_y, scoring='roc_auc', cv=cv, n_jobs=-1)"
   ]
  },
  {
   "cell_type": "code",
   "execution_count": 88,
   "id": "05428117",
   "metadata": {},
   "outputs": [
    {
     "data": {
      "text/plain": [
       "0.6203909322229934"
      ]
     },
     "execution_count": 88,
     "metadata": {},
     "output_type": "execute_result"
    }
   ],
   "source": [
    "np.mean(nb_accu)"
   ]
  },
  {
   "cell_type": "code",
   "execution_count": 89,
   "id": "9d51c829",
   "metadata": {},
   "outputs": [
    {
     "data": {
      "text/plain": [
       "0.30293912436769577"
      ]
     },
     "execution_count": 89,
     "metadata": {},
     "output_type": "execute_result"
    }
   ],
   "source": [
    "np.mean(nb_pres)"
   ]
  },
  {
   "cell_type": "code",
   "execution_count": 91,
   "id": "1c907069",
   "metadata": {},
   "outputs": [
    {
     "data": {
      "text/plain": [
       "0.3188779435682378"
      ]
     },
     "execution_count": 91,
     "metadata": {},
     "output_type": "execute_result"
    }
   ],
   "source": [
    "np.mean(nb_f1)"
   ]
  },
  {
   "cell_type": "code",
   "execution_count": 92,
   "id": "5a55b590",
   "metadata": {},
   "outputs": [
    {
     "data": {
      "text/plain": [
       "0.3428319146044125"
      ]
     },
     "execution_count": 92,
     "metadata": {},
     "output_type": "execute_result"
    }
   ],
   "source": [
    "np.mean(nb_recal)"
   ]
  },
  {
   "cell_type": "code",
   "execution_count": 93,
   "id": "9cb77166",
   "metadata": {},
   "outputs": [
    {
     "data": {
      "text/plain": [
       "0.5728889875739049"
      ]
     },
     "execution_count": 93,
     "metadata": {},
     "output_type": "execute_result"
    }
   ],
   "source": [
    "np.mean(nb_roc)"
   ]
  },
  {
   "cell_type": "markdown",
   "id": "dea52a93",
   "metadata": {},
   "source": [
    "#### Multi Class - Naive Bayes"
   ]
  },
  {
   "cell_type": "code",
   "execution_count": 94,
   "id": "49554045",
   "metadata": {},
   "outputs": [],
   "source": [
    "cv = KFold(n_splits=5, random_state=20, shuffle=True)\n",
    "\n",
    "model_gNB = GaussianNB()\n",
    "\n",
    "mgNB_accu = cross_val_score(model_gNB, mul_data_x, mul_data_y, scoring='accuracy', cv=cv)\n",
    "mgNB_pres = cross_val_score(model_gNB, mul_data_x, mul_data_y, scoring='precision_macro', cv=cv)\n",
    "mgNB_f1 = cross_val_score(model_gNB, mul_data_x, mul_data_y, scoring='f1_macro', cv=cv)\n",
    "mgNB_recal = cross_val_score(model_gNB, mul_data_x, mul_data_y, scoring='recall_macro', cv=cv)"
   ]
  },
  {
   "cell_type": "code",
   "execution_count": 95,
   "id": "9312f184",
   "metadata": {},
   "outputs": [
    {
     "data": {
      "text/plain": [
       "0.34723969252271136"
      ]
     },
     "execution_count": 95,
     "metadata": {},
     "output_type": "execute_result"
    }
   ],
   "source": [
    "np.mean(mgNB_accu)"
   ]
  },
  {
   "cell_type": "code",
   "execution_count": 96,
   "id": "698e833a",
   "metadata": {},
   "outputs": [
    {
     "data": {
      "text/plain": [
       "0.26709812178562176"
      ]
     },
     "execution_count": 96,
     "metadata": {},
     "output_type": "execute_result"
    }
   ],
   "source": [
    "np.mean(mgNB_pres)"
   ]
  },
  {
   "cell_type": "code",
   "execution_count": 97,
   "id": "62b19116",
   "metadata": {},
   "outputs": [
    {
     "data": {
      "text/plain": [
       "0.2579687639480032"
      ]
     },
     "execution_count": 97,
     "metadata": {},
     "output_type": "execute_result"
    }
   ],
   "source": [
    "np.mean(mgNB_f1)"
   ]
  },
  {
   "cell_type": "code",
   "execution_count": 98,
   "id": "53562781",
   "metadata": {},
   "outputs": [
    {
     "data": {
      "text/plain": [
       "0.27992424242424246"
      ]
     },
     "execution_count": 98,
     "metadata": {},
     "output_type": "execute_result"
    }
   ],
   "source": [
    "np.mean(mgNB_recal)"
   ]
  },
  {
   "cell_type": "markdown",
   "id": "cf1566a4",
   "metadata": {},
   "source": [
    "### K-Nearest Neighbour"
   ]
  },
  {
   "cell_type": "markdown",
   "id": "138ca823",
   "metadata": {},
   "source": [
    "#### Binary - KNN"
   ]
  },
  {
   "cell_type": "code",
   "execution_count": 115,
   "id": "28cbd2e2",
   "metadata": {},
   "outputs": [],
   "source": [
    "from sklearn.neighbors import KNeighborsClassifier\n",
    "\n",
    "cv = KFold(n_splits=5, random_state=20, shuffle=True)\n",
    "\n",
    "model_kNN = KNeighborsClassifier(n_neighbors=3)\n",
    "\n",
    "knn_accu = cross_val_score(model_kNN, data_x, data_y, scoring='accuracy', cv=cv, n_jobs=-1)\n",
    "knn_pres = cross_val_score(model_kNN, data_x, data_y, scoring='precision', cv=cv, n_jobs=-1)\n",
    "knn_f1 = cross_val_score(model_kNN, data_x, data_y, scoring='f1', cv=cv, n_jobs=-1)\n",
    "knn_recal = cross_val_score(model_kNN, data_x, data_y, scoring='recall', cv=cv, n_jobs=-1)\n",
    "knn_roc = cross_val_score(model_kNN, data_x, data_y, scoring='roc_auc', cv=cv, n_jobs=-1)"
   ]
  },
  {
   "cell_type": "code",
   "execution_count": 116,
   "id": "fde395ab",
   "metadata": {},
   "outputs": [
    {
     "data": {
      "text/plain": [
       "0.7271108026833218"
      ]
     },
     "execution_count": 116,
     "metadata": {},
     "output_type": "execute_result"
    }
   ],
   "source": [
    "np.mean(knn_accu)"
   ]
  },
  {
   "cell_type": "code",
   "execution_count": 117,
   "id": "f9105bb8",
   "metadata": {},
   "outputs": [
    {
     "data": {
      "text/plain": [
       "0.2995454545454545"
      ]
     },
     "execution_count": 117,
     "metadata": {},
     "output_type": "execute_result"
    }
   ],
   "source": [
    "np.mean(knn_pres)"
   ]
  },
  {
   "cell_type": "code",
   "execution_count": 118,
   "id": "c3feb6aa",
   "metadata": {},
   "outputs": [
    {
     "data": {
      "text/plain": [
       "0.1015415019762846"
      ]
     },
     "execution_count": 118,
     "metadata": {},
     "output_type": "execute_result"
    }
   ],
   "source": [
    "np.mean(knn_f1)"
   ]
  },
  {
   "cell_type": "code",
   "execution_count": 119,
   "id": "d1fa7fe9",
   "metadata": {},
   "outputs": [
    {
     "data": {
      "text/plain": [
       "0.06310157929165498"
      ]
     },
     "execution_count": 119,
     "metadata": {},
     "output_type": "execute_result"
    }
   ],
   "source": [
    "np.mean(knn_recal)"
   ]
  },
  {
   "cell_type": "code",
   "execution_count": 120,
   "id": "fbeae0e4",
   "metadata": {},
   "outputs": [
    {
     "data": {
      "text/plain": [
       "0.5333574253704795"
      ]
     },
     "execution_count": 120,
     "metadata": {},
     "output_type": "execute_result"
    }
   ],
   "source": [
    "np.mean(knn_roc)"
   ]
  },
  {
   "cell_type": "markdown",
   "id": "3e20fb4a",
   "metadata": {},
   "source": [
    "#### Multi Class - KNN"
   ]
  },
  {
   "cell_type": "code",
   "execution_count": 121,
   "id": "7e793fa7",
   "metadata": {},
   "outputs": [
    {
     "name": "stderr",
     "output_type": "stream",
     "text": [
      "/Users/suetlingku/opt/anaconda3/lib/python3.9/site-packages/sklearn/metrics/_classification.py:1318: UndefinedMetricWarning: Precision is ill-defined and being set to 0.0 in labels with no predicted samples. Use `zero_division` parameter to control this behavior.\n",
      "  _warn_prf(average, modifier, msg_start, len(result))\n",
      "/Users/suetlingku/opt/anaconda3/lib/python3.9/site-packages/sklearn/metrics/_classification.py:1318: UndefinedMetricWarning: Precision is ill-defined and being set to 0.0 in labels with no predicted samples. Use `zero_division` parameter to control this behavior.\n",
      "  _warn_prf(average, modifier, msg_start, len(result))\n",
      "/Users/suetlingku/opt/anaconda3/lib/python3.9/site-packages/sklearn/metrics/_classification.py:1318: UndefinedMetricWarning: Precision is ill-defined and being set to 0.0 in labels with no predicted samples. Use `zero_division` parameter to control this behavior.\n",
      "  _warn_prf(average, modifier, msg_start, len(result))\n"
     ]
    }
   ],
   "source": [
    "model_kNN = KNeighborsClassifier(n_neighbors=3)\n",
    "\n",
    "mknn_accu = cross_val_score(model_kNN, mul_data_x, mul_data_y, scoring='accuracy', cv=cv)\n",
    "mknn_pres = cross_val_score(model_kNN, mul_data_x, mul_data_y, scoring='precision_macro', cv=cv)\n",
    "mknn_f1 = cross_val_score(model_kNN, mul_data_x, mul_data_y, scoring='f1_macro', cv=cv)\n",
    "mknn_recal = cross_val_score(model_kNN, mul_data_x, mul_data_y, scoring='recall_macro', cv=cv)"
   ]
  },
  {
   "cell_type": "code",
   "execution_count": 122,
   "id": "ff485eae",
   "metadata": {},
   "outputs": [
    {
     "data": {
      "text/plain": [
       "0.4064989517819706"
      ]
     },
     "execution_count": 122,
     "metadata": {},
     "output_type": "execute_result"
    }
   ],
   "source": [
    "np.mean(mknn_accu)"
   ]
  },
  {
   "cell_type": "code",
   "execution_count": 123,
   "id": "459e76f3",
   "metadata": {},
   "outputs": [
    {
     "data": {
      "text/plain": [
       "0.17681970970206265"
      ]
     },
     "execution_count": 123,
     "metadata": {},
     "output_type": "execute_result"
    }
   ],
   "source": [
    "np.mean(mknn_pres)"
   ]
  },
  {
   "cell_type": "code",
   "execution_count": 124,
   "id": "d35a1c5d",
   "metadata": {},
   "outputs": [
    {
     "data": {
      "text/plain": [
       "0.16931294497275187"
      ]
     },
     "execution_count": 124,
     "metadata": {},
     "output_type": "execute_result"
    }
   ],
   "source": [
    "np.mean(mknn_f1)"
   ]
  },
  {
   "cell_type": "code",
   "execution_count": 125,
   "id": "4b08fd54",
   "metadata": {},
   "outputs": [
    {
     "data": {
      "text/plain": [
       "0.23922619047619045"
      ]
     },
     "execution_count": 125,
     "metadata": {},
     "output_type": "execute_result"
    }
   ],
   "source": [
    "np.mean(mknn_recal)"
   ]
  },
  {
   "cell_type": "markdown",
   "id": "ff3a8d03",
   "metadata": {},
   "source": [
    "### Extreme Gradient Boosting "
   ]
  },
  {
   "cell_type": "markdown",
   "id": "559cc692",
   "metadata": {},
   "source": [
    "#### Binary - XGBoost"
   ]
  },
  {
   "cell_type": "code",
   "execution_count": 132,
   "id": "98616345",
   "metadata": {},
   "outputs": [],
   "source": [
    "from xgboost import XGBClassifier\n",
    "model_XGB = XGBClassifier(n_estimators=110,max_depth=300,min_child_weight=1,verbosity =0,n_jobs=16)\n",
    "\n",
    "XGB_accu = cross_val_score(model_XGB, data_x, data_y, scoring='accuracy', cv=cv, n_jobs=-1)\n",
    "XGB_pres = cross_val_score(model_XGB, data_x, data_y, scoring='precision', cv=cv, n_jobs=-1)\n",
    "XGB_f1 = cross_val_score(model_XGB, data_x, data_y, scoring='f1', cv=cv, n_jobs=-1)\n",
    "XGB_recal = cross_val_score(model_XGB, data_x, data_y, scoring='recall', cv=cv, n_jobs=-1)\n",
    "XGB_roc = cross_val_score(model_XGB, data_x, data_y, scoring='roc_auc', cv=cv, n_jobs=-1)"
   ]
  },
  {
   "cell_type": "code",
   "execution_count": 127,
   "id": "5fe2ab3e",
   "metadata": {},
   "outputs": [
    {
     "data": {
      "text/plain": [
       "0.7301064075873237"
      ]
     },
     "execution_count": 127,
     "metadata": {},
     "output_type": "execute_result"
    }
   ],
   "source": [
    "np.mean(XGB_accu)"
   ]
  },
  {
   "cell_type": "code",
   "execution_count": 128,
   "id": "cc97ea89",
   "metadata": {},
   "outputs": [
    {
     "data": {
      "text/plain": [
       "0.4"
      ]
     },
     "execution_count": 128,
     "metadata": {},
     "output_type": "execute_result"
    }
   ],
   "source": [
    "np.mean(XGB_pres)"
   ]
  },
  {
   "cell_type": "code",
   "execution_count": 129,
   "id": "8344966c",
   "metadata": {},
   "outputs": [
    {
     "data": {
      "text/plain": [
       "0.14805462348445236"
      ]
     },
     "execution_count": 129,
     "metadata": {},
     "output_type": "execute_result"
    }
   ],
   "source": [
    "np.mean(XGB_f1)"
   ]
  },
  {
   "cell_type": "code",
   "execution_count": 130,
   "id": "de8072c8",
   "metadata": {},
   "outputs": [
    {
     "data": {
      "text/plain": [
       "0.09226484780521786"
      ]
     },
     "execution_count": 130,
     "metadata": {},
     "output_type": "execute_result"
    }
   ],
   "source": [
    "np.mean(XGB_recal)"
   ]
  },
  {
   "cell_type": "code",
   "execution_count": 133,
   "id": "f35ff50a",
   "metadata": {},
   "outputs": [
    {
     "data": {
      "text/plain": [
       "0.5413889174995552"
      ]
     },
     "execution_count": 133,
     "metadata": {},
     "output_type": "execute_result"
    }
   ],
   "source": [
    "np.mean(XGB_roc)"
   ]
  },
  {
   "cell_type": "markdown",
   "id": "d992364e",
   "metadata": {},
   "source": [
    "#### Multi Class - XGBoost"
   ]
  },
  {
   "cell_type": "code",
   "execution_count": 134,
   "id": "de61ddf6",
   "metadata": {},
   "outputs": [],
   "source": [
    "model_XGB = XGBClassifier(n_estimators=110,max_depth=300,min_child_weight=1,verbosity =0,n_jobs=16)\n",
    "\n",
    "mxgb_accu = cross_val_score(model_XGB, mul_data_x, mul_data_y, scoring='accuracy', cv=cv)\n",
    "mxgb_pres = cross_val_score(model_XGB, mul_data_x, mul_data_y, scoring='precision_macro', cv=cv)\n",
    "mxgb_f1 = cross_val_score(model_XGB, mul_data_x, mul_data_y, scoring='f1_macro', cv=cv)\n",
    "mxgb_recal = cross_val_score(model_XGB, mul_data_x, mul_data_y, scoring='recall_macro', cv=cv)"
   ]
  },
  {
   "cell_type": "code",
   "execution_count": 135,
   "id": "a4b0a906",
   "metadata": {},
   "outputs": [
    {
     "data": {
      "text/plain": [
       "0.4067085953878407"
      ]
     },
     "execution_count": 135,
     "metadata": {},
     "output_type": "execute_result"
    }
   ],
   "source": [
    "np.mean(mxgb_accu)"
   ]
  },
  {
   "cell_type": "code",
   "execution_count": 136,
   "id": "be7c69bb",
   "metadata": {},
   "outputs": [
    {
     "data": {
      "text/plain": [
       "0.3030774382318442"
      ]
     },
     "execution_count": 136,
     "metadata": {},
     "output_type": "execute_result"
    }
   ],
   "source": [
    "np.mean(mxgb_pres)"
   ]
  },
  {
   "cell_type": "code",
   "execution_count": 137,
   "id": "a7fcf633",
   "metadata": {},
   "outputs": [
    {
     "data": {
      "text/plain": [
       "0.2607202908460122"
      ]
     },
     "execution_count": 137,
     "metadata": {},
     "output_type": "execute_result"
    }
   ],
   "source": [
    "np.mean(mxgb_f1)"
   ]
  },
  {
   "cell_type": "code",
   "execution_count": 138,
   "id": "b8c7523e",
   "metadata": {},
   "outputs": [
    {
     "data": {
      "text/plain": [
       "0.28312662337662337"
      ]
     },
     "execution_count": 138,
     "metadata": {},
     "output_type": "execute_result"
    }
   ],
   "source": [
    "np.mean(mxgb_recal)"
   ]
  }
 ],
 "metadata": {
  "kernelspec": {
   "display_name": "Python 3 (ipykernel)",
   "language": "python",
   "name": "python3"
  },
  "language_info": {
   "codemirror_mode": {
    "name": "ipython",
    "version": 3
   },
   "file_extension": ".py",
   "mimetype": "text/x-python",
   "name": "python",
   "nbconvert_exporter": "python",
   "pygments_lexer": "ipython3",
   "version": "3.9.7"
  }
 },
 "nbformat": 4,
 "nbformat_minor": 5
}
