{
 "cells": [
  {
   "cell_type": "markdown",
   "id": "134744d3",
   "metadata": {},
   "source": [
    "## Preprocessing "
   ]
  },
  {
   "cell_type": "markdown",
   "id": "3374add9",
   "metadata": {},
   "source": [
    "### Loading and Resizing "
   ]
  },
  {
   "cell_type": "code",
   "execution_count": 1,
   "id": "d5b898f8",
   "metadata": {},
   "outputs": [],
   "source": [
    "import cv2\n",
    "import glob\n",
    "import os\n",
    "from PIL import Image, ImageFilter, ImageEnhance\n",
    "from skimage import img_as_ubyte\n",
    "import numpy as np\n",
    "import matplotlib.pyplot as plt\n"
   ]
  },
  {
   "cell_type": "code",
   "execution_count": 8,
   "id": "91cbaa33",
   "metadata": {},
   "outputs": [],
   "source": [
    "path = \"D:/University Malaya/Semester 2/WQD 7006/Group assignment/ddidiversedermatologyimages\"\n",
    "path_after = \"D:/University Malaya/Semester 2/WQD 7006/Group assignment/new\"\n"
   ]
  },
  {
   "cell_type": "code",
   "execution_count": 9,
   "id": "48864171",
   "metadata": {},
   "outputs": [],
   "source": [
    "# Set the desired size\n",
    "size = (500, 500)\n",
    "\n",
    "# Iterate through all images in a directory\n",
    "for file in os.listdir(path):\n",
    "    if file.endswith(\".jpg\") or file.endswith(\".png\"):\n",
    "        # Open the image\n",
    "        im = Image.open(os.path.join(path, file))\n",
    "        # Resize the image\n",
    "        im_resized = im.resize(size)\n",
    "        # Save the resized image\n",
    "        im_resized.save(os.path.join(path_after, file))\n"
   ]
  },
  {
   "cell_type": "code",
   "execution_count": 12,
   "id": "06d852f2",
   "metadata": {},
   "outputs": [],
   "source": [
    "#median filter (to de-noise) \n",
    "\n",
    "for file in os.listdir(path_after):\n",
    "    if file.endswith(\".jpg\") or file.endswith(\".png\"):\n",
    "        # Open the image\n",
    "        im = Image.open(os.path.join(path_after, file))\n",
    "        \n",
    "        # Apply the median filter\n",
    "        im_filtered = im.filter(ImageFilter.MedianFilter(size=5))\n",
    "        \n",
    "        # Convert the image to grayscale\n",
    "        im_gray = im_filtered.convert(\"L\")\n",
    "        \n",
    "        # Convert the image to a NumPy array\n",
    "        im_array = np.array(im_gray)\n",
    "        \n",
    "        # Normalize the pixel values to the range 0-1\n",
    "        im_array_normalized = im_array / 255.0\n",
    "        # Convert the normalized array back to an image\n",
    "        im_normalized = Image.fromarray(np.uint8(im_array_normalized * 255))\n",
    "        \n",
    "        # Save the normalized image\n",
    "        im_normalized.save(os.path.join(path_after, file))"
   ]
  },
  {
   "cell_type": "code",
   "execution_count": null,
   "id": "b1f0f0a0",
   "metadata": {},
   "outputs": [],
   "source": [
    "# im = Image.open(os.path.join(path_after, file))\n",
    "\n",
    "# # Get an iterator of the pixel values\n",
    "# pixels = im.getdata()\n",
    "\n",
    "# # Loop over the pixel values and print them\n",
    "# for pixel in pixels:\n",
    "#     print(pixel)"
   ]
  },
  {
   "cell_type": "code",
   "execution_count": null,
   "id": "754bc2bf",
   "metadata": {},
   "outputs": [],
   "source": [
    "# #otsu segementation technique\n",
    "# for file in os.listdir(path_after):\n",
    "#     if file.endswith(\".jpg\") or file.endswith(\".png\"):\n",
    "#         # Open the image\n",
    "#         im = Image.open(os.path.join(path_after, file))\n",
    "        \n",
    "#         # Apply Otsu's method to find the optimal threshold value\n",
    "#         threshold, _ = cv2.threshold(im_array, 1, 255, cv2.THRESH_BINARY + cv2.THRESH_OTSU)\n",
    "\n",
    "#         # Create a binary image using the threshold value\n",
    "#         im_binary = (im_array > threshold).astype(np.uint8)\n",
    "\n",
    "#         # Convert the binary image back to a PIL image\n",
    "#         im_binary = Image.fromarray(im_binary)\n",
    "\n",
    "#         # Save the binary image\n",
    "#         im_binary.save(os.path.join(path_after, file))"
   ]
  }
 ],
 "metadata": {
  "kernelspec": {
   "display_name": "base",
   "language": "python",
   "name": "python3"
  },
  "language_info": {
   "codemirror_mode": {
    "name": "ipython",
    "version": 3
   },
   "file_extension": ".py",
   "mimetype": "text/x-python",
   "name": "python",
   "nbconvert_exporter": "python",
   "pygments_lexer": "ipython3",
   "version": "3.9.7 (default, Sep 16 2021, 16:59:28) [MSC v.1916 64 bit (AMD64)]"
  },
  "vscode": {
   "interpreter": {
    "hash": "b09ec625f77bf4fd762565a912b97636504ad6ec901eb2d0f4cf5a7de23e1ee5"
   }
  }
 },
 "nbformat": 4,
 "nbformat_minor": 5
}
